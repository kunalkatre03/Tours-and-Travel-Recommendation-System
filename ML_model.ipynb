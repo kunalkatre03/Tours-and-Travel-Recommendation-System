{
 "cells": [
  {
   "cell_type": "code",
   "execution_count": 2,
   "id": "d310238e-e2fc-4400-adea-a8ea738506dd",
   "metadata": {},
   "outputs": [],
   "source": [
    "# Import necessary libraries\n",
    "import numpy as np\n",
    "import pandas as pd\n",
    "from sklearn.feature_extraction.text import CountVectorizer\n",
    "from sklearn.metrics.pairwise import cosine_similarity\n",
    "from nltk.stem.porter import PorterStemmer\n"
   ]
  },
  {
   "cell_type": "code",
   "execution_count": 3,
   "id": "251d3dbf-2e0e-4622-8105-c86084537f81",
   "metadata": {},
   "outputs": [
    {
     "name": "stdout",
     "output_type": "stream",
     "text": [
      "          City  Ratings Ideal_duration  Best_time_to_visit  \\\n",
      "0       Manali      4.5            2-4        October-June   \n",
      "1   Leh Ladakh      4.6            5-7         JulyOctober   \n",
      "2        Coorg      4.2            2-3      September-June   \n",
      "3      Andaman      4.5            4-6       October-March   \n",
      "4  Lakshadweep      4.0            4-6  September-February   \n",
      "\n",
      "                                           City_desc  \n",
      "0  [' One of the most popular hill stations in Hi...  \n",
      "1  [\" Ladakh is a union territory in the Kashmir ...  \n",
      "2  [' Located amidst imposing mountains in Karnat...  \n",
      "3  [' Replete with turquoise blue water beaches a...  \n",
      "4  [\" Formerly known as Laccadive Islands, Laksha...  \n",
      "<class 'pandas.core.frame.DataFrame'>\n",
      "Index: 99 entries, 0 to 99\n",
      "Data columns (total 4 columns):\n",
      " #   Column          Non-Null Count  Dtype  \n",
      "---  ------          --------------  -----  \n",
      " 0   City            99 non-null     object \n",
      " 1   Ratings         99 non-null     float64\n",
      " 2   Ideal_duration  99 non-null     object \n",
      " 3   City_desc       99 non-null     object \n",
      "dtypes: float64(1), object(3)\n",
      "memory usage: 3.9+ KB\n",
      "None\n"
     ]
    }
   ],
   "source": [
    "# Load the data\n",
    "city = pd.read_csv('cities.csv')\n",
    "\n",
    "# Inspect the first few rows\n",
    "print(city.head())\n",
    "\n",
    "# Handle missing values (drop the 'Best_time_to_visit' column and rows with NaN)\n",
    "city = city.drop(['Best_time_to_visit'], axis=1)\n",
    "city = city.dropna()\n",
    "\n",
    "# Display information about the dataset\n",
    "print(city.info())\n"
   ]
  },
  {
   "cell_type": "code",
   "execution_count": 4,
   "id": "1a66d08b-5eda-4bb5-99d0-49b18ce645aa",
   "metadata": {},
   "outputs": [],
   "source": [
    "# Preprocessing: Convert 'City_desc' to lowercase and apply stemming\n",
    "city['City_desc'] = city['City_desc'].apply(lambda x: x.lower())\n",
    "\n",
    "# Initialize Porter Stemmer\n",
    "ps = PorterStemmer()\n",
    "\n",
    "def stem(text):\n",
    "    \"\"\"\n",
    "    This function stems words in a text using the Porter Stemmer algorithm.\n",
    "    \"\"\"\n",
    "    y = []\n",
    "    for i in text.split():\n",
    "        y.append(ps.stem(i))  # Apply stemming to each word\n",
    "    return \" \".join(y)\n",
    "\n",
    "# Apply stemming to the 'City_desc' column\n",
    "city['City_desc'] = city['City_desc'].apply(stem)\n"
   ]
  },
  {
   "cell_type": "code",
   "execution_count": 5,
   "id": "8e772c36-e8bb-4b67-b9bb-aaed82699db9",
   "metadata": {},
   "outputs": [
    {
     "name": "stdout",
     "output_type": "stream",
     "text": [
      "(99, 3499)\n"
     ]
    }
   ],
   "source": [
    "# Convert text data into vectors using CountVectorizer\n",
    "cv = CountVectorizer(max_features=5000, stop_words='english')\n",
    "\n",
    "# Fit and transform the city descriptions into a feature matrix\n",
    "vectors = cv.fit_transform(city['City_desc']).toarray()\n",
    "\n",
    "# Display the shape of the vectorized data\n",
    "print(vectors.shape)\n"
   ]
  },
  {
   "cell_type": "code",
   "execution_count": 6,
   "id": "a8bf4269-71e6-4046-88c4-d7491d0a0ba7",
   "metadata": {},
   "outputs": [
    {
     "name": "stdout",
     "output_type": "stream",
     "text": [
      "(99, 99)\n"
     ]
    }
   ],
   "source": [
    "# Calculate cosine similarity between the city vectors\n",
    "similarity = cosine_similarity(vectors)\n",
    "\n",
    "# Display similarity matrix dimensions\n",
    "print(similarity.shape)\n"
   ]
  },
  {
   "cell_type": "code",
   "execution_count": 7,
   "id": "59367a93-8a01-44fb-bba4-6462479fe6ef",
   "metadata": {},
   "outputs": [],
   "source": [
    "# Function to recommend cities based on similarity\n",
    "def recommend(city_name):\n",
    "    \"\"\"\n",
    "    This function recommends 5 cities similar to the input city based on cosine similarity.\n",
    "    \"\"\"\n",
    "    # Convert the input city name to lowercase for case-insensitive matching\n",
    "    city_name = city_name.lower()\n",
    "\n",
    "    try:\n",
    "        # Find the index of the city in the dataset\n",
    "        city_index = city[city['City'].str.lower() == city_name].index[0]\n",
    "    except IndexError:\n",
    "        # Handle case if the city is not found\n",
    "        print(f\"The city '{city_name}' is not found in the dataset.\")\n",
    "        return\n",
    "\n",
    "    # Get the similarity scores for the input city\n",
    "    distances = similarity[city_index]\n",
    "\n",
    "    # Get the 5 most similar cities (excluding the input city itself)\n",
    "    city_list = sorted(list(enumerate(distances)), reverse=True, key=lambda x: x[1])[1:6]\n",
    "\n",
    "    # Display the recommended cities\n",
    "    for i in city_list:\n",
    "        similar_city = city.iloc[i[0]].City\n",
    "        print(f\"{city.iloc[i[0]].City} \")\n"
   ]
  },
  {
   "cell_type": "code",
   "execution_count": 16,
   "id": "e162c168-3182-4c40-a360-542c6e7051ea",
   "metadata": {},
   "outputs": [
    {
     "name": "stdout",
     "output_type": "stream",
     "text": [
      "Alibaug \n",
      "Kovalam \n",
      "Chennai \n",
      "Visakhapatnam \n",
      "Digha \n"
     ]
    }
   ],
   "source": [
    "\n",
    "recommend('goa')\n"
   ]
  },
  {
   "cell_type": "code",
   "execution_count": null,
   "id": "c93e5abb-8f0f-46f0-8da5-fada85180b58",
   "metadata": {},
   "outputs": [],
   "source": []
  }
 ],
 "metadata": {
  "kernelspec": {
   "display_name": "Python 3 (ipykernel)",
   "language": "python",
   "name": "python3"
  },
  "language_info": {
   "codemirror_mode": {
    "name": "ipython",
    "version": 3
   },
   "file_extension": ".py",
   "mimetype": "text/x-python",
   "name": "python",
   "nbconvert_exporter": "python",
   "pygments_lexer": "ipython3",
   "version": "3.12.7"
  }
 },
 "nbformat": 4,
 "nbformat_minor": 5
}
